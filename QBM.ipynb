{
 "cells": [
  {
   "cell_type": "code",
   "execution_count": 66,
   "metadata": {},
   "outputs": [
    {
     "name": "stdout",
     "output_type": "stream",
     "text": [
      "0.005980491638183594\n"
     ]
    }
   ],
   "source": [
    "import numpy as np\n",
    "import time\n",
    "\n",
    "N = 10\n",
    "\n",
    "start = time.time()\n",
    "v_state = []\n",
    "\n",
    "for i in range(2**N):\n",
    "    vi = bin(2**N - i - 1).split('b')[1].replace(\"1\", \"1 \").replace(\"0\", \"-1 \").split()\n",
    "    vi += [-1]*(N - len(vi))\n",
    "    vi = np.array(vi, dtype=\"int32\")\n",
    "    v_state.append(vi)\n",
    "\n",
    "print(time.time() - start)"
   ]
  },
  {
   "cell_type": "code",
   "execution_count": 34,
   "id": "dff9eacc",
   "metadata": {},
   "outputs": [
    {
     "name": "stdout",
     "output_type": "stream",
     "text": [
      "[-1, '-1']\n",
      "[-1, '1']\n",
      "['1', '-1']\n",
      "['1', '1']\n"
     ]
    }
   ],
   "source": [
    "for i in range(2**N):\n",
    "    vi = bin(i).split('b')[1].replace('1', '1 ').replace('0', '-1 ').split()\n",
    "    vi.reverse()\n",
    "    while len(vi) < N:\n",
    "        vi.append(-1)\n",
    "    vi.reverse()\n",
    "    print(vi)"
   ]
  },
  {
   "cell_type": "code",
   "execution_count": 68,
   "id": "b1aa57b0",
   "metadata": {},
   "outputs": [
    {
     "name": "stdout",
     "output_type": "stream",
     "text": [
      "[[0. 0.]\n",
      " [0. 0.]]\n"
     ]
    }
   ],
   "source": [
    "print(np.zeros((2, 2)))"
   ]
  },
  {
   "cell_type": "code",
   "execution_count": 3,
   "id": "b9994a16",
   "metadata": {},
   "outputs": [
    {
     "data": {
      "text/plain": [
       "array([[0., 1.],\n",
       "       [1., 0.]])"
      ]
     },
     "execution_count": 3,
     "metadata": {},
     "output_type": "execute_result"
    }
   ],
   "source": [
    "import numpy as np\n",
    "\n",
    "i = np.identity(1)\n",
    "np.kron(i, [[0, 1], [1, 0]])"
   ]
  },
  {
   "cell_type": "code",
   "execution_count": 80,
   "id": "de4f9157",
   "metadata": {},
   "outputs": [
    {
     "name": "stdout",
     "output_type": "stream",
     "text": [
      "      fun: 1.3791187138672285e-17\n",
      " hess_inv: array([[1]])\n",
      "      jac: array([2.23284587e-08])\n",
      "  message: 'Optimization terminated successfully.'\n",
      "     nfev: 6\n",
      "      nit: 1\n",
      "     njev: 3\n",
      "   status: 0\n",
      "  success: True\n",
      "        x: array([3.71364876e-09])\n"
     ]
    }
   ],
   "source": [
    "import QBM\n",
    "\n",
    "model = QBM.model(2, 100)\n",
    "print(model.minimize_fun())"
   ]
  },
  {
   "cell_type": "code",
   "execution_count": 8,
   "id": "7e4d7d0b",
   "metadata": {},
   "outputs": [
    {
     "name": "stdout",
     "output_type": "stream",
     "text": [
      "[[ 7 10]\n",
      " [15 22]]\n",
      "[[ 7 10]\n",
      " [15 22]]\n"
     ]
    }
   ],
   "source": [
    "a = np.array([[1,2], \n",
    "    [3,4]])\n",
    "\n",
    "print(np.dot(a, a), np.inner(a, a.T), sep=\"\\n\")"
   ]
  },
  {
   "cell_type": "code",
   "execution_count": null,
   "id": "ed9fd7d2",
   "metadata": {},
   "outputs": [],
   "source": []
  }
 ],
 "metadata": {
  "interpreter": {
   "hash": "5ef0d01db83394b126ade9ed5c0d406b97bdaa7067732b0cf05fcb058321f0a7"
  },
  "kernelspec": {
   "display_name": "Python 3.8.3 64-bit ('wjin': conda)",
   "language": "python",
   "name": "python3"
  },
  "language_info": {
   "codemirror_mode": {
    "name": "ipython",
    "version": 3
   },
   "file_extension": ".py",
   "mimetype": "text/x-python",
   "name": "python",
   "nbconvert_exporter": "python",
   "pygments_lexer": "ipython3",
   "version": "3.8.3"
  }
 },
 "nbformat": 4,
 "nbformat_minor": 5
}
